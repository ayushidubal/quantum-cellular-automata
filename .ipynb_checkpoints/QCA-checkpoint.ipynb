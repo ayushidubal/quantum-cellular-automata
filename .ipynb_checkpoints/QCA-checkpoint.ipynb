{
 "cells": [
  {
   "cell_type": "markdown",
   "metadata": {},
   "source": [
    "# Quantum Cellular Automata"
   ]
  },
  {
   "cell_type": "markdown",
   "metadata": {},
   "source": [
    "We have begun by looking at classical cellular automata and their potential applications in physics. \n",
    "\n",
    "\n",
    "## What is a cellular automaton?\n",
    "\n",
    "Any grid or lattice of cells of finite dimension that has the following properties:\n",
    "\n",
    "- Each cell is in one of a finite number of *states*\n",
    "- Each cell has a set of cells defined as its *neighbourhood*\n",
    "- The state of each cell evolves with time, and is dependent on the present state of the cell and the state of its neighbours\n",
    "- This updation rule may or may not be constant with time\n",
    " \n",
    "In general, there are four parameters that define the structure of a cellular automata:\n",
    "1. **Discrete $n$-dimensional lattice of cells** - Usually homgenous (all cells are equivalent)\n",
    "2. **Discrete states** - Each cell is in one and only one state at a given time, where the state $σ ∈ Σ$, such that $Σ$ is of finite cardinality.\n",
    "3. **Local interactions** - Behaviour only depends on the local neighbourhood (defined for that structure). Actions at a distance are not allowed.\n",
    "4. **Discrete dynamics** - After every time step, there is a change of state according to a deterministic transition function $ϕ : Σ^{n} → Σ$. This update may or may not be synchronus (though it usually is), and may or may not take the state at time $t-1$ as input to determine the state at time $t$. \n",
    "\n",
    "\n",
    "### Wolfram code\n",
    "\n",
    "For a CA such that:\n",
    "\n",
    "- The system is a one dimensional lattice of square cells in a line\n",
    "- Every cell $c_{i}$ can be in one of two states at a time - $0$ or $1$\n",
    "- The neighbourhood of a cell $c_{i}$ is defined as the set of cells {$c_{i-1}$, $c_{i+1}$}\n",
    "\n",
    "Since the next state function is dependent on the present state of 3 cells ($n = 3$), and each cell can take one of 2 possible states, the total number of possible rules is $2^{8}$.\n",
    "\n",
    "A ruleset can be used to describe this next state function.\n",
    "For example,\n",
    "\n",
    "| Input states | Next state | \n",
    "| :-: | :-: |\n",
    "| 000 | 0 |\n",
    "| 001 | 0 |\n",
    "| 010 | 1 |\n",
    "| 011 | 1 |\n",
    "| 100 | 0 |\n",
    "| 101 | 1 |\n",
    "| 110 | 1 |\n",
    "| 111 | 0 |\n",
    "\n",
    "Where the input states are ordered as $c_{i-1}(t-1), c_{i}(t-1), c_{i+1}(t-1)$, and the output state is $c_{i}(t)$.\n",
    "\n",
    "This particular rule can be read as its sequential outputs (in reverse order), which is $01101100$, which is the binary equivalent of 108. Thus, this is rule 108 in the Wolfram Code.\n",
    "\n",
    "\n",
    "#### Classification\n",
    "- Class 1 : Rules that quickly produce homogenous states with all the states ending up with the same value.\n",
    "- Class 2 : Rules that lead to stable structures or simple periodic patterns.\n",
    "- Class 3 : Rules that lead to seemingly random, non periodic behaviour.\n",
    "- Class 4 : Rules that lead to complex patterns and structures that locally propagate in the lattice.\n",
    "\n",
    "\n",
    "#### Possible applications\n",
    "\n",
    "- Modelling of magnetic domains (using the Ising model of ferromagnetism)\n",
    "- Random number generation"
   ]
  },
  {
   "cell_type": "markdown",
   "metadata": {},
   "source": [
    "### Classical Cellular Automata Implementation\n",
    "\n",
    "You can find the code for a classical cellular automata based on a specific ruleset below. The ruleset is defined in a manner that is a little different as what is specified above. The ruleset is based on the rule that if the state of the $(i-1)^{th}$ bit is $1$ then in the next timestep, the state of the ith bit will be flipped. It is important to note that this is just a different way of defining the ruleset, however, it is still one of the possible $2^8$ rulesets, and not something outside that scope. It is also important to note that we have assumed a circular (ring like) structure of the cellular automata. What this basically means is that the element preceding the $0^{th}$ element of the array is the last element of the array. The elements of the array can be thought of as arrange in a ring. "
   ]
  },
  {
   "cell_type": "code",
   "execution_count": 21,
   "metadata": {},
   "outputs": [
    {
     "name": "stdout",
     "output_type": "stream",
     "text": [
      "6\n",
      "1 0 1 1 0 1\n",
      "5\n",
      "[0, 1, 1, 0, 1, 1]\n",
      "[1, 1, 0, 1, 1, 0]\n",
      "[1, 0, 1, 1, 0, 1]\n",
      "[0, 1, 1, 0, 1, 1]\n",
      "[1, 1, 0, 1, 1, 0]\n"
     ]
    }
   ],
   "source": [
    "# -*- coding: utf-8 -*-\n",
    "\"\"\"\n",
    "Created on Tue Jan  5 11:13:29 2021\n",
    "\n",
    "@author: Astitva\n",
    "\n",
    "Example of discrete time evolution:\n",
    "\n",
    " 1 gen :0 0 0 0 0 1 0 0 \n",
    " 2 gen :1 1 1 1 0 0 1 1\n",
    " \n",
    "Example of a ruleset :\n",
    "\n",
    "a b c\n",
    "0 0 0 -> 1\n",
    "0 1 0 -> 0 \n",
    "0 0 1 -> 0 \n",
    "1 0 0 -> 1\n",
    "1 1 0 -> 0 \n",
    "1 0 1 -> 1 \n",
    "0 1 1 -> 1\n",
    "1 1 1 -> 0\n",
    "\n",
    " \n",
    "2^8 -> no of rulesets possible\n",
    "\n",
    "2d cellular automata are also well defined, and are based on the same basic principles as this\n",
    "\n",
    "\n",
    "\"\"\"\n",
    "# Cellular Automata 1D\n",
    "def flip(x):                                #state fliping\n",
    "    if x == 0:\n",
    "        x=1\n",
    "    else: \n",
    "        x=0\n",
    "    return x\n",
    "\n",
    "n = int (input())                           #accepts length of CA\n",
    "a = list(map(int,input().split()))          #accepts the CA\n",
    "t = int(input())                            #accepts timesteps\n",
    "for j in range(t) :\n",
    "    b = []                                  #newstep CA\n",
    "    for i in range(n):                      #the timestep (transformation)\n",
    "        if i == 0 : \n",
    "            if a[n-1] == 1:\n",
    "                b.append(flip(a[i]))\n",
    "            else:\n",
    "                b.append(a[i])\n",
    "        else:\n",
    "            if a[i-1] ==1:\n",
    "                b.append(flip(a[i]))\n",
    "            else:\n",
    "                b.append(a[i])\n",
    "    print(b)                             #printing the CA after transformation\n",
    "    for i in range(n):     #making the original CA = new CA (for further steps) \n",
    "        a[i]=b[i]"
   ]
  },
  {
   "cell_type": "code",
   "execution_count": 23,
   "metadata": {},
   "outputs": [
    {
     "name": "stdout",
     "output_type": "stream",
     "text": [
      "Enter the input array: 1 0 1 0 1\n",
      "What should 000 map to ? 0\n",
      "What should 001 map to ? 1\n",
      "What should 010 map to ? 0\n",
      "What should 011 map to ? 1\n",
      "What should 100 map to ? 0\n",
      "What should 101 map to ? 0\n",
      "What should 110 map to ? 1\n",
      "What should 111 map to ? 0\n",
      "How many timesteps? 7\n",
      "0 1 1 1 0 \n",
      "0 1 1 0 0 \n",
      "0 1 0 0 1 \n",
      "0 0 0 0 0 \n",
      "0 1 1 1 0 \n",
      "1 1 1 1 1 \n",
      "1 1 1 1 1 \n"
     ]
    }
   ],
   "source": [
    "a = list(map(int, input(\"Enter the input array: \").split()))\n",
    "ruleset = {}\n",
    "for i in range(8):\n",
    "    n =bin(i)[2:]\n",
    "    for i in range(len(n),3):\n",
    "        n = \"0\"+n\n",
    "    ruleset[n]=(int(input(\"What should \" + n + \" map to ? \")))\n",
    "t=int(input(\"How many timesteps? \"))\n",
    "for s in range(t):\n",
    "    b =[]\n",
    "    for i in range(len(a)):\n",
    "        if i != len(a)-1:\n",
    "            b.append(ruleset[str(a[i-1])+str(a[i])+str(a[i+1])])\n",
    "        else:\n",
    "            b.append(ruleset[str(a[i-1])+str(a[i])+str(a[0])]) \n",
    "    for i in b:\n",
    "        print(str(b[i])+\" \",end='')\n",
    "    print()\n",
    "    for i in range(len(b)):\n",
    "        a[i]=b[i]\n",
    "        "
   ]
  },
  {
   "cell_type": "markdown",
   "metadata": {},
   "source": [
    "## What is quantum cellular automata?\n",
    "\n",
    "In the Schrödinger picture of quantum mechanics, the state of the system at time $t$ is described by statevetor $|ψ_t⟩$ in Hilbert space ℋ. This statevector evolves reversibly such that \n",
    "\n",
    "$|ψ_{t+1}⟩ = U|ψ_t⟩$\n",
    "\n",
    "where $U$ is a unitary operator. \n",
    "\n",
    "### Watrous QCA\n",
    "\n",
    "Defined by a 4-tuple - $(L, Σ, 𝒩, f)$ \n",
    "- 1 dimensional lattice $L ⊆ \\mathbb{Z} $\n",
    "- Finite set of states Σ, including a quiescent(dormant) state $ϵ$\n",
    "- A finite neighbourhood scheme 𝒩\n",
    "- A local transition function $f : Σ^𝒩 → ℋ_Σ$\n",
    "\n",
    "Where $ℋ_Σ$ is the Hilbert space spanned by the set of states $Σ$\n",
    "\n",
    "\n",
    "In general, a $d$-dimensional lattice of identical finite-dimensional quantum systems, each with a finite set of states that span a finite-dimensional Hilbert space, a finite neighbourhood scheme, a set of local transition rules ddescribed by unitary operators, which represent discrete time-evolution, with finite propagation speed.\n",
    "\n",
    "Direct quantisation of above classical model, allows for linear superposition of classical states, maps cell configurations of neighbourhood to a quantum state.\n",
    "\n",
    "Quiescent states allows for finite number of active states, makes the lattice finite. Important to avoid infinite product of unitaries. Makes for a well-defined QCA.\n",
    "\n",
    "#### Drawbacks\n",
    "- Allows transition functions that do not preserve norm, or that induce a non-unitary global transition function.\n",
    "- This leads to non-physical properties like FTL communication (superluminal communication)\n",
    "\n",
    "So, we modify it a little.\n",
    "\n",
    "Partitioned Qatrous QCA. \n",
    "It can simulate a Quantum Turing Machine.\n",
    "\n",
    "\n",
    "[Ref](https://arxiv.org/pdf/0808.0679.pdf)\n"
   ]
  },
  {
   "cell_type": "markdown",
   "metadata": {},
   "source": [
    "## Quantum Cellular Automata Implementation"
   ]
  },
  {
   "cell_type": "code",
   "execution_count": 2,
   "metadata": {},
   "outputs": [],
   "source": [
    "from qiskit import QuantumCircuit, Aer, execute\n",
    "from qiskit.quantum_info import Statevector, random_statevector\n",
    "from qiskit.quantum_info.operators import Operator"
   ]
  },
  {
   "cell_type": "code",
   "execution_count": 3,
   "metadata": {},
   "outputs": [
    {
     "data": {
      "image/png": "[encoded data removed]",
      "text/plain": [
       "<Figure size 929.397x204.68 with 1 Axes>"
      ]
     },
     "execution_count": 3,
     "metadata": {},
     "output_type": "execute_result"
    }
   ],
   "source": [
    "qca = QuantumCircuit(3)\n",
    "\n",
    "init_state = [0, 0, 1, 0, 0, 0, 0, 0]\n",
    "\n",
    "random_state = random_statevector(8).data\n",
    "qca.initialize(random_state, [0, 1, 2])\n",
    "\n",
    "'''\n",
    "| _ | _ | _ | _ | _ |\n",
    "\n",
    "000 - 000\n",
    "001 - 100\n",
    "010 - 001\n",
    "011 - 101\n",
    "100 - 010\n",
    "101 - 110\n",
    "110 - 011\n",
    "111 - 111\n",
    "\n",
    "00 - 0\n",
    "01 - 0\n",
    "10 - 1\n",
    "11 - 1\n",
    "'''\n",
    "\n",
    "op = Operator([\n",
    "              [1, 0, 0, 0, 0, 0, 0, 0],\n",
    "              [0, 0, 1, 0, 0, 0, 0, 0],\n",
    "              [0, 0, 0, 0, 1, 0, 0, 0],\n",
    "              [0, 0, 0, 0, 0, 0, 1, 0],\n",
    "              [0, 1, 0, 0, 0, 0, 0, 0],\n",
    "              [0, 0, 0, 1, 0, 0, 0, 0],\n",
    "              [0, 0, 0, 0, 0, 1, 0, 0],\n",
    "              [0, 0, 0, 0, 0, 0, 0, 1]])\n",
    "\n",
    "qca.unitary(op, [0,1,2], label='U')\n",
    "\n",
    "qca.draw('mpl')\n",
    "  "
   ]
  },
  {
   "cell_type": "code",
   "execution_count": 4,
   "metadata": {},
   "outputs": [
    {
     "name": "stdout",
     "output_type": "stream",
     "text": [
      "[ 0.03778719+0.14355919j  0.01370015-0.23566563j -0.04820539+0.30220095j\n",
      " -0.3301401 +0.55424398j -0.24991421+0.05599815j -0.09453815-0.22937411j\n",
      " -0.03671359-0.31376432j  0.41769056+0.10490314j]\n"
     ]
    }
   ],
   "source": [
    "backend = Aer.get_backend('statevector_simulator')\n",
    "fin = execute(experiments = qca, backend = backend).result().get_statevector(qca)\n",
    "\n",
    "print(fin)"
   ]
  },
  {
   "cell_type": "code",
   "execution_count": 5,
   "metadata": {},
   "outputs": [
    {
     "name": "stdout",
     "output_type": "stream",
     "text": [
      "4\n"
     ]
    }
   ],
   "source": [
    "n = int(input())"
   ]
  },
  {
   "cell_type": "code",
   "execution_count": 6,
   "metadata": {},
   "outputs": [
    {
     "data": {
      "image/png": "[encoded data removed]",
      "text/plain": [
       "<Figure size 1591.6x565.88 with 1 Axes>"
      ]
     },
     "execution_count": 6,
     "metadata": {},
     "output_type": "execute_result"
    }
   ],
   "source": [
    "# n = 3\n",
    "dim = 2**n\n",
    "\n",
    "mat = [[0 for i in range(dim)] for j in range(dim)]\n",
    "\n",
    "for i in range(dim):\n",
    "    x = bin(i)[2:].zfill(n)\n",
    "    y = x[-1] + x[:-1]\n",
    "    z = int(y, base = 2)\n",
    "    # print(x, '-', y, '-', z)\n",
    "    mat[z][i] = 1\n",
    "\n",
    "# print(mat)\n",
    "\n",
    "\n",
    "qca1 = QuantumCircuit(n)\n",
    "\n",
    "random_state = random_statevector(dim).data\n",
    "qca1.initialize(random_state, [i for i in range(n)])\n",
    "\n",
    "op = Operator(mat)\n",
    "qca1.unitary(op, [i for i in range(n)], label = 'U')\n",
    "qca1.draw('mpl')"
   ]
  },
  {
   "cell_type": "code",
   "execution_count": 7,
   "metadata": {},
   "outputs": [
    {
     "name": "stdout",
     "output_type": "stream",
     "text": [
      "[ 0.0470264 +0.09071126j  0.22971599+0.24245081j -0.16391194+0.19775316j\n",
      "  0.19646609+0.08179635j -0.06714224-0.01780878j  0.13685632-0.05988151j\n",
      " -0.21397259-0.22936515j -0.02316857-0.17819141j -0.21015408-0.07114668j\n",
      " -0.08523064+0.34895016j -0.10453781-0.3025608j  -0.06512628-0.01020644j\n",
      "  0.13972493+0.2389248j  -0.16267825-0.36105515j  0.03811607+0.26661207j\n",
      " -0.11301479-0.07147511j]\n"
     ]
    }
   ],
   "source": [
    "backend = Aer.get_backend('statevector_simulator')\n",
    "fin = execute(experiments = qca1, backend = backend).result().get_statevector(qca1)\n",
    "\n",
    "print(fin)"
   ]
  }
 ],
 "metadata": {
  "kernelspec": {
   "display_name": "Python 3",
   "language": "python",
   "name": "python3"
  },
  "language_info": {
   "codemirror_mode": {
    "name": "ipython",
    "version": 3
   },
   "file_extension": ".py",
   "mimetype": "text/x-python",
   "name": "python",
   "nbconvert_exporter": "python",
   "pygments_lexer": "ipython3",
   "version": "3.8.3"
  }
 },
 "nbformat": 4,
 "nbformat_minor": 4
}
