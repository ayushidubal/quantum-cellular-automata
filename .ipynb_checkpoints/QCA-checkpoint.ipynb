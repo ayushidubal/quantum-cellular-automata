{
 "cells": [
  {
   "cell_type": "markdown",
   "metadata": {},
   "source": [
    "# Quantum Cellular Automata"
   ]
  },
  {
   "cell_type": "markdown",
   "metadata": {},
   "source": [
    "## Introduction\n",
    "\n",
    "We have begun by looking at classical cellular automata and their potential applications in physics. \n",
    "\n",
    "\n",
    "#### What is a cellular automata?\n",
    "\n",
    "Any grid or lattice of cells of finite dimension that has the following properties:\n",
    "\n",
    "- Each cell is in one of a finite number of *states*\n",
    "- Each cell has a set of cells defined as its *neighbourhood*\n",
    "- The state of each cell evolves with time, and is dependent on the present state of the cell and the state of its neighbours\n",
    "- This updation rule may or may not be constant with time\n",
    " \n",
    "In general, there are four parameters that define the structure of a cellular automata:\n",
    "1. **Discrete $n$-dimensional lattice of cells** - Usually homgenous (all cells are equivalent)\n",
    "2. **Discrete states** - Each cell is in one and only one state at a given time, where the state $σ ∈ Σ$, such that $Σ$ is of finite cardinality.\n",
    "3. **Local interactions** - Behaviour only depends on the local neighbourhood (defined for that structure). Actions at a distance are not allowed.\n",
    "4. **Discrete dynamics** - After every time step, there is a change of state according to a deterministic transition function $ϕ : Σ^{n} → Σ$. This update may or may not be synchronus (though it usually is), and may or may not take the state at time $t-1$ as input to determine the state at time $t$. \n",
    "\n",
    "\n",
    "#### Wolfram code\n",
    "\n",
    "For a CA such that:\n",
    "\n",
    "- The system is a one dimensional lattice of square cells in a line\n",
    "- Every cell $c_{i}$ can be in one of two states at a time - $0$ or $1$\n",
    "- The neighbourhood of a cell $c_{i}$ is defined as the set of cells {$c_{i-1}$, $c_{i+1}$}\n",
    "\n",
    "Since the next state function is dependent on the present state of 3 cells ($n = 3$), and each cell can take one of 2 possible states, the total number of possible rules is $2^{8}$.\n",
    "\n",
    "A ruleset can be used to describe this next state function.\n",
    "For example,\n",
    "\n",
    "| Input states | Next state | \n",
    "| :-: | :-: |\n",
    "| 000 | 0 |\n",
    "| 001 | 0 |\n",
    "| 010 | 1 |\n",
    "| 011 | 1 |\n",
    "| 100 | 0 |\n",
    "| 101 | 1 |\n",
    "| 110 | 1 |\n",
    "| 111 | 0 |\n",
    "\n",
    "Where the input states are ordered as $c_{i-1}(t-1), c_{i}(t-1), c_{i+1}(t-1)$, and the output state is $c_{i}(t)$.\n",
    "\n",
    "This particular rule can be read as its sequential outputs (in reverse order), which is $01101100$, which is the binary equivalent of 108. Thus, this is rule 108 in the Wolfram Code.\n",
    "\n",
    "\n",
    "#### Classification\n",
    "- Class 1 : Rules that quickly produce homogenous states with all the states ending up with the same value.\n",
    "- Class 2 : Rules that lead to stable structures or simple periodic patterns.\n",
    "- Class 3 : Rules that lead to seemingly random, non periodic behaviour.\n",
    "- Class 4 : Rules that lead to complex patterns and structures that locally propagate in the lattice.\n",
    "\n",
    "\n",
    "#### Possible applications\n",
    "\n",
    "- Modelling of magnetic domains (using the Ising model of ferromagnetism)\n",
    "- Random number generation"
   ]
  },
  {
   "cell_type": "markdown",
   "metadata": {},
   "source": [
    "## Classical Cellular Automata Code\n",
    "\n",
    "You can find the code for a classical cellular automata based on a specific ruleset below. The ruleset is defined in a manner that is a little different as what is specified above. The ruleset is based on the rule that if the state of the (i-1)th bit is 1 then in the next timestep, the state of the ith bit will be flipped. It is important to note that this is just a different way of defining the ruleset, however, it is still one of the possible $2^8$ rulesets, and not something outside that scope. It is also important to note that we have assumed a circular (ring like) structure of the cellular automata. What this basically means is that the element preceding the 0th element of the array is the last element of the array. The elements of the array can be thought of as arrange in a ring. "
   ]
  },
  {
   "cell_type": "code",
   "execution_count": 2,
   "metadata": {},
   "outputs": [
    {
     "name": "stdout",
     "output_type": "stream",
     "text": [
      "6\n",
      "1 0 1 1 0 1\n",
      "5\n",
      "[0, 1, 1, 0, 1, 1]\n",
      "[1, 1, 0, 1, 1, 0]\n",
      "[1, 0, 1, 1, 0, 1]\n",
      "[0, 1, 1, 0, 1, 1]\n",
      "[1, 1, 0, 1, 1, 0]\n"
     ]
    }
   ],
   "source": [
    "# -*- coding: utf-8 -*-\n",
    "\"\"\"\n",
    "Created on Tue Jan  5 11:13:29 2021\n",
    "\n",
    "@author: Astitva\n",
    "\n",
    "Example of discrete time evolution:\n",
    "\n",
    " 1 gen :0 0 0 0 0 1 0 0 \n",
    " 2 gen :1 1 1 1 0 0 1 1\n",
    " \n",
    "Example of a ruleset :\n",
    "\n",
    "a b c\n",
    "0 0 0 -> 1\n",
    "0 1 0 -> 0 \n",
    "0 0 1 -> 0 \n",
    "1 0 0 -> 1\n",
    "1 1 0 -> 0 \n",
    "1 0 1 -> 1 \n",
    "0 1 1 -> 1\n",
    "1 1 1 -> 0\n",
    "\n",
    " \n",
    "2^8 -> no of rulesets possible\n",
    "\n",
    "2d cellular automata are also well defined, and are based on the same basic principles as this\n",
    "\n",
    "\n",
    "\"\"\"\n",
    "# Cellular Automata 1D\n",
    "def flip(x):                                #state fliping\n",
    "    if x == 0:\n",
    "        x=1\n",
    "    else: \n",
    "        x=0\n",
    "    return x\n",
    "\n",
    "n = int (input())                           #accepts length of CA\n",
    "a = list(map(int,input().split()))          #accepts the CA\n",
    "t = int(input())                            #accepts timesteps\n",
    "for j in range(t) :\n",
    "    b = []                                  #newstep CA\n",
    "    for i in range(n):                      #the timestep (transformation)\n",
    "        if i == 0 : \n",
    "            if a[n-1] == 1:\n",
    "                b.append(flip(a[i]))\n",
    "            else:\n",
    "                b.append(a[i])\n",
    "        else:\n",
    "            if a[i-1] ==1:\n",
    "                b.append(flip(a[i]))\n",
    "            else:\n",
    "                b.append(a[i])\n",
    "    print(b)                             #printing the CA after transformation\n",
    "    for i in range(n):     #making the original CA = new CA (for further steps) \n",
    "        a[i]=b[i]"
   ]
  },
  {
   "cell_type": "markdown",
   "metadata": {},
   "source": [
    "We can also write a code that implements any general ruleset out of the $2^8$ possibilities. The code for this is shown below. It takes as input the ruleset, and then uses that to modify the input array in every timestep."
   ]
  },
  {
   "cell_type": "code",
   "execution_count": 27,
   "metadata": {},
   "outputs": [
    {
     "name": "stdout",
     "output_type": "stream",
     "text": [
      "Enter the input array: 1 0 1 0 1\n",
      "What should 000 map to ? 0 \n",
      "What should 001 map to ? 1\n",
      "What should 010 map to ? 0\n",
      "What should 011 map to ? 1\n",
      "What should 100 map to ? 0\n",
      "What should 101 map to ? 0\n",
      "What should 110 map to ? 1\n",
      "What should 111 map to ? 0\n",
      "How many timesteps? 7\n",
      "0 1 1 1 0 \n",
      "0 1 1 0 0 \n",
      "0 1 0 0 1 \n",
      "0 0 0 0 0 \n",
      "0 1 1 1 0 \n",
      "1 1 1 1 1 \n",
      "1 1 1 1 1 \n"
     ]
    }
   ],
   "source": [
    "\n",
    "a = list(map(int, input(\"Enter the input array: \").split()))\n",
    "ruleset = {}\n",
    "for i in range(8):\n",
    "    n =bin(i)[2:]\n",
    "    for i in range(len(n),3):\n",
    "        n = \"0\"+n\n",
    "    ruleset[n]=(int(input(\"What should \" + n + \" map to ? \")))\n",
    "t=int(input(\"How many timesteps? \"))\n",
    "for s in range(t):\n",
    "    b =[]\n",
    "    for i in range(len(a)):\n",
    "        if i != len(a)-1:\n",
    "            b.append(ruleset[str(a[i-1])+str(a[i])+str(a[i+1])])\n",
    "        else:\n",
    "            b.append(ruleset[str(a[i-1])+str(a[i])+str(a[0])]) \n",
    "    for i in b:\n",
    "        print(str(b[i])+\" \",end='')\n",
    "    print()\n",
    "    for i in range(len(b)):\n",
    "        a[i]=b[i]\n",
    "        "
   ]
  },
  {
   "cell_type": "code",
   "execution_count": null,
   "metadata": {},
   "outputs": [],
   "source": []
  },
  {
   "cell_type": "code",
   "execution_count": null,
   "metadata": {},
   "outputs": [],
   "source": []
  },
  {
   "cell_type": "code",
   "execution_count": null,
   "metadata": {},
   "outputs": [],
   "source": []
  }
 ],
 "metadata": {
  "kernelspec": {
   "display_name": "Python 3",
   "language": "python",
   "name": "python3"
  },
  "language_info": {
   "codemirror_mode": {
    "name": "ipython",
    "version": 3
   },
   "file_extension": ".py",
   "mimetype": "text/x-python",
   "name": "python",
   "nbconvert_exporter": "python",
   "pygments_lexer": "ipython3",
   "version": "3.7.6"
  }
 },
 "nbformat": 4,
 "nbformat_minor": 4
}
