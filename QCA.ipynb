{
 "cells": [
  {
   "cell_type": "markdown",
   "metadata": {},
   "source": [
    "# Quantum Cellular Automata"
   ]
  },
  {
   "cell_type": "markdown",
   "metadata": {},
   "source": [
    "## Introduction\n",
    "\n",
    "We have begun by looking at classical cellular automata and their potential applications in physics. \n",
    "\n",
    "\n",
    "#### What is a cellular automata?\n",
    "\n",
    "Any grid or lattice of cells of finite dimension that has the following properties:\n",
    "\n",
    "- Each cell is in one of a finite number of *states*\n",
    "- Each cell has a set of cells defined as its *neighbourhood*\n",
    "- The state of each cell evolves with time, and is dependent on the present state of the cell and the state of its neighbours\n",
    "- This updation rule may or may not be constant with time\n",
    " \n",
    "In general, there are four parameters that define the structure of a cellular automata:\n",
    "1. **Discrete $n$-dimensional lattice of cells** - Usually homgenous (all cells are equivalent)\n",
    "2. **Discrete states** - Each cell is in one and only one state at a given time, where the state $σ ∈ Σ$, such that $Σ$ is of finite cardinality.\n",
    "3. **Local interactions** - Behaviour only depends on the local neighbourhood (defined for that structure). Actions at a distance are not allowed.\n",
    "4. **Discrete dynamics** - After every time step, there is a change of state according to a deterministic transition function $ϕ : Σ^{n} → Σ$. This update may or may not be synchronus (though it usually is), and may or may not take the state at time $t-1$ as input to determine the state at time $t$. \n",
    "\n",
    "\n",
    "#### Wolfram code\n",
    "\n",
    "For a CA such that:\n",
    "\n",
    "- The system is a one dimensional lattice of square cells in a line\n",
    "- Every cell $c_{i}$ can be in one of two states at a time - $0$ or $1$\n",
    "- The neighbourhood of a cell $c_{i}$ is defined as the set of cells {$c_{i-1}$, $c_{i+1}$}\n",
    "\n",
    "Since the next state function is dependent on the present state of 3 cells ($n = 3$), and each cell can take one of 2 possible states, the total number of possible rules is $2^{8}$.\n",
    "\n",
    "A ruleset can be used to describe this next state function.\n",
    "For example,\n",
    "\n",
    "| Input states | Next state | \n",
    "| :-: | :-: |\n",
    "| 000 | 0 |\n",
    "| 001 | 0 |\n",
    "| 010 | 1 |\n",
    "| 011 | 1 |\n",
    "| 100 | 0 |\n",
    "| 101 | 1 |\n",
    "| 110 | 1 |\n",
    "| 111 | 0 |\n",
    "\n",
    "Where the input states are ordered as $c_{i-1}(t-1), c_{i}(t-1), c_{i+1}(t-1)$, and the output state is $c_{i}(t)$.\n",
    "\n",
    "This particular rule can be read as its sequential outputs (in reverse order), which is $01101100$, which is the binary equivalent of 108. Thus, this is rule 108 in the Wolfram Code.\n",
    "\n",
    "\n",
    "#### Classification\n",
    "- Class 1 : Rules that quickly produce homogenous states with all the states ending up with the same value.\n",
    "- Class 2 : Rules that lead to stable structures or simple periodic patterns.\n",
    "- Class 3 : Rules that lead to seemingly random, non periodic behaviour.\n",
    "- Class 4 : Rules that lead to complex patterns and structures that locally propagate in the lattice.\n",
    "\n",
    "\n",
    "#### Possible applications\n",
    "\n",
    "- Modelling of magnetic domains (using the Ising model of ferromagnetism)\n",
    "- Random number generation"
   ]
  },
  {
   "cell_type": "code",
   "execution_count": null,
   "metadata": {},
   "outputs": [],
   "source": []
  }
 ],
 "metadata": {
  "kernelspec": {
   "display_name": "Python 3",
   "language": "python",
   "name": "python3"
  },
  "language_info": {
   "codemirror_mode": {
    "name": "ipython",
    "version": 3
   },
   "file_extension": ".py",
   "mimetype": "text/x-python",
   "name": "python",
   "nbconvert_exporter": "python",
   "pygments_lexer": "ipython3",
   "version": "3.8.3"
  }
 },
 "nbformat": 4,
 "nbformat_minor": 4
}
